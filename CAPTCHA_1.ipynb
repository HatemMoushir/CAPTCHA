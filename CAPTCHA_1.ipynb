{
  "cells": [
    {
      "cell_type": "markdown",
      "metadata": {
        "id": "view-in-github",
        "colab_type": "text"
      },
      "source": [
        "<a href=\"https://colab.research.google.com/github/HatemMoushir/CAPTCHA/blob/main/CAPTCHA_1.ipynb\" target=\"_parent\"><img src=\"https://colab.research.google.com/assets/colab-badge.svg\" alt=\"Open In Colab\"/></a>"
      ]
    },
    {
      "cell_type": "code",
      "source": [
        "import os\n",
        "import string\n",
        "import random\n",
        "from PIL import Image, ImageDraw, ImageFont\n",
        "\n",
        "# إعدادات\n",
        "CAPTCHA_LENGTH = 5\n",
        "CHARS = string.ascii_uppercase + string.digits\n",
        "# Use a font that is likely to be available in Colab\n",
        "FONT_PATH = \"/usr/share/fonts/truetype/liberation/LiberationSans-Regular.ttf\"\n",
        "OUTPUT_DIR = \"captcha_images\"\n",
        "os.makedirs(OUTPUT_DIR, exist_ok=True)\n",
        "\n",
        "# توليد صورة واحدة\n",
        "def generate_captcha(text, width=160, height=60):\n",
        "    img = Image.new('RGB', (width, height), (255, 255, 255))\n",
        "    draw = ImageDraw.Draw(img)\n",
        "    # Adjust font size if needed for the new font\n",
        "    font = ImageFont.truetype(FONT_PATH, 40)\n",
        "\n",
        "    for i, char in enumerate(text):\n",
        "        draw.text((10 + i * 30, 10), char, font=font, fill=(0, 0, 0))\n",
        "\n",
        "    return img\n",
        "\n",
        "# توليد مجموعة بيانات\n",
        "def generate_dataset(num_images=5000):\n",
        "    for i in range(num_images):\n",
        "        text = ''.join(random.choices(CHARS, k=CAPTCHA_LENGTH))\n",
        "        img = generate_captcha(text)\n",
        "        img.save(os.path.join(OUTPUT_DIR, f\"{text}.png\"))\n",
        "\n",
        "generate_dataset(5000)"
      ],
      "metadata": {
        "id": "7CYD-ZS5EBtG"
      },
      "execution_count": null,
      "outputs": []
    },
    {
      "cell_type": "code",
      "source": [
        "import matplotlib.pyplot as plt\n",
        "\n",
        "# اعرض صورة عشوائية من المجلد\n",
        "sample_file = random.choice(os.listdir(OUTPUT_DIR))\n",
        "img = Image.open(os.path.join(OUTPUT_DIR, sample_file))\n",
        "\n",
        "plt.imshow(img)\n",
        "plt.axis('off')\n",
        "plt.title(f\"Sample CAPTCHA: {sample_file.split('.')[0]}\")\n",
        "plt.show()"
      ],
      "metadata": {
        "colab": {
          "base_uri": "https://localhost:8080/",
          "height": 148
        },
        "id": "GzBr9M0iFzTt",
        "outputId": "940f5780-3b72-4d7f-dff9-5ea75b8d63e8"
      },
      "execution_count": null,
      "outputs": [
        {
          "output_type": "display_data",
          "data": {
            "text/plain": [
              "<Figure size 640x480 with 1 Axes>"
            ],
            "image/png": "[encoded data removed]"
          },
          "metadata": {}
        }
      ]
    }
  ],
  "metadata": {
    "colab": {
      "provenance": [],
      "authorship_tag": "ABX9TyOT9VMbPwBdZqpmQGh+D0wQ",
      "include_colab_link": true
    },
    "kernelspec": {
      "display_name": "Python 3",
      "name": "python3"
    },
    "language_info": {
      "name": "python"
    }
  },
  "nbformat": 4,
  "nbformat_minor": 0
}